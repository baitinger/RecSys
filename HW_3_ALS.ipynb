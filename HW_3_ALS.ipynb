{
 "cells": [
  {
   "cell_type": "markdown",
   "metadata": {
    "id": "AnG9DXhe49cH"
   },
   "source": [
    "## Теоретическая часть"
   ]
  },
  {
   "cell_type": "markdown",
   "metadata": {
    "id": "RxDIQTAh49cO"
   },
   "source": [
    "1. Вспомним прошлый вебинар, мы рассматривали User-User рекомендации и Item-Item рекомендации. Чем они отличаются и чем они похожи? Если есть функция item_item_rec(interaction_matrix). Можно ли использовать эту функцию для user_user_rec?  \n",
    "В чем принципиальные отличия item-item рекомендаций от ALS\n",
    "\n",
    "item_based и user_based рекоммендации основываются на user_item матрице, которая зачастую является сильно зазреженной и обладают следующими недостатками:\n",
    "- Проблема холодного старта. Новодобавленные объекты никому не рекомендуются.\n",
    "- Плохие предсказания для новых/нетипичных пользователей/объектов. Для необычных пользователей тяжело найти похожих пользователей и рекомендации не появляются.\n",
    "- Тривиальность рекомендаций.\n",
    "- Ресурсоемкость вычислений. Для того, чтобы делать предсказания нам нужно держать в памяти все оценки всех пользователей.\n",
    "\n",
    "ALS алгоритм в свою очередь опирается на линейную алгебру, SVD разложение, а так же машинное обучение, для того чтобы найти/предсказать оценки. В добавок к этому, применяется регуляризация, для того, чтобы избежать переобучения."
   ]
  },
  {
   "cell_type": "markdown",
   "metadata": {
    "id": "XnuQ5DDD49cP"
   },
   "source": [
    "2. Приведите 3 примера весов (те, которых не было на вебинаре: сумма покупок, количество покупок - неинтересно) user-item матрицы для задачи рекомендаций товаров \n",
    "\n",
    "- Выставленный рейтинг юзером для товара\n",
    "- Приоритет товара для пользователя\n",
    "- Количество просмотров этого товара на веб-сайте магазина"
   ]
  },
  {
   "cell_type": "markdown",
   "metadata": {
    "id": "UmKifKo649cQ"
   },
   "source": [
    "3. Какие ограничения есть у ALS? (Тип информации, линейность/нелинейность факторов и т д)\n",
    "\n",
    "Во-первых, матрица нам заранее неизвестна, поэтому мы не можем просто взять ее SVD разложение. Во-вторых, разложение не единственное, необходим подбор параметров"
   ]
  },
  {
   "cell_type": "markdown",
   "metadata": {
    "id": "ZFhlzsTb49cR"
   },
   "source": [
    "## Практическая часть\n"
   ]
  },
  {
   "cell_type": "code",
   "execution_count": 5,
   "metadata": {
    "colab": {
     "base_uri": "https://localhost:8080/"
    },
    "id": "ju-hv9oJtakN",
    "outputId": "d6e7bec4-09fb-441f-9f60-5842db15f3d0"
   },
   "outputs": [
    {
     "name": "stdout",
     "output_type": "stream",
     "text": [
      "Requirement already satisfied: implicit in /Users/tomas/opt/anaconda3/lib/python3.8/site-packages (0.4.8)\r\n",
      "Requirement already satisfied: scipy>=0.16 in /Users/tomas/opt/anaconda3/lib/python3.8/site-packages (from implicit) (1.8.0)\r\n",
      "Requirement already satisfied: numpy in /Users/tomas/opt/anaconda3/lib/python3.8/site-packages (from implicit) (1.20.2)\r\n",
      "Requirement already satisfied: tqdm>=4.27 in /Users/tomas/opt/anaconda3/lib/python3.8/site-packages (from implicit) (4.61.2)\r\n"
     ]
    }
   ],
   "source": [
    "!pip install implicit"
   ]
  },
  {
   "cell_type": "code",
   "execution_count": 55,
   "metadata": {
    "id": "qI6TyXCL49cS"
   },
   "outputs": [],
   "source": [
    "import pandas as pd\n",
    "import numpy as np\n",
    "import matplotlib.pyplot as plt\n",
    "import seaborn as sns\n",
    "%matplotlib inline\n",
    "\n",
    "# Для работы с матрицами\n",
    "from scipy.sparse import csr_matrix\n",
    "\n",
    "# Матричная факторизация\n",
    "from implicit.als import AlternatingLeastSquares\n",
    "from implicit.nearest_neighbours import bm25_weight, tfidf_weight\n",
    "\n",
    "# Функции из 1-ого вебинара\n",
    "import os, sys\n",
    "\n",
    "import warnings\n",
    "warnings.filterwarnings(\"ignore\")"
   ]
  },
  {
   "cell_type": "code",
   "execution_count": 68,
   "metadata": {
    "colab": {
     "base_uri": "https://localhost:8080/",
     "height": 111
    },
    "id": "LsYDeTEC49cU",
    "outputId": "d1246437-ea35-456e-b859-cca0b9abc21f"
   },
   "outputs": [],
   "source": [
    "data = pd.read_csv('retail_train.csv')\n",
    "\n",
    "data.columns = [col.lower() for col in data.columns]\n",
    "data.rename(columns={'household_key': 'user_id',\n",
    "                    'product_id': 'item_id'},\n",
    "           inplace=True)\n",
    "\n",
    "\n",
    "test_size_weeks = 3\n",
    "\n",
    "data_train = data[data['week_no'] < data['week_no'].max() - test_size_weeks]\n",
    "data_test = data[data['week_no'] >= data['week_no'].max() - test_size_weeks]"
   ]
  },
  {
   "cell_type": "code",
   "execution_count": 39,
   "metadata": {},
   "outputs": [],
   "source": [
    "def precision_at_k(recommended_list, bought_list, k=5):\n",
    "    \n",
    "    bought_list = np.array(bought_list)\n",
    "    recommended_list = np.array(recommended_list)\n",
    "    \n",
    "    bought_list = bought_list  # Тут нет [:k] !!\n",
    "    recommended_list = recommended_list[:k]\n",
    "    \n",
    "    flags = np.isin(bought_list, recommended_list)\n",
    "    \n",
    "    precision = flags.sum() / len(recommended_list)\n",
    "    \n",
    "    \n",
    "    return precision"
   ]
  },
  {
   "cell_type": "code",
   "execution_count": 52,
   "metadata": {},
   "outputs": [],
   "source": [
    "def ALS(data_train, \n",
    "        data_test, \n",
    "        confidence=1,\n",
    "        pivot_agg='count', \n",
    "        pivot_val='quantity',\n",
    "        als_factors=44,\n",
    "        als_regularization=0.001,\n",
    "        als_iterations=15):\n",
    "    \n",
    "    '''\n",
    "    data_train: pd.DataFrame\n",
    "    data_test: pd.DataFrame\n",
    "    pivot_agg: aggregation func which will be applied to the pivot table made using data_train\n",
    "    pivot_val: column name of data_train which will be used as value in pivot table\n",
    "    '''\n",
    "    \n",
    "    result = data_test.groupby('user_id')['item_id'].unique().reset_index()\n",
    "    result.columns=['user_id', 'actual']\n",
    "    result.head(2)\n",
    "    \n",
    "    popularity = data_train.groupby('item_id')['quantity'].sum().reset_index()\n",
    "    popularity.rename(columns={'quantity': 'n_sold'}, inplace=True)\n",
    "\n",
    "    top_5000 = popularity.sort_values('n_sold', ascending=False).head(5000).item_id.tolist()\n",
    "\n",
    "    # Заведем фиктивный item_id (если юзер покупал товары из топ-5000, то он \"купил\" такой товар)\n",
    "    data_train.loc[~data_train['item_id'].isin(top_5000), 'item_id'] = 999999\n",
    "    \n",
    "    \n",
    "    user_item_matrix = pd.pivot_table(data_train, \n",
    "                                      index='user_id', \n",
    "                                      columns='item_id', \n",
    "                                      values=pivot_val, # Можно пробоват другие варианты\n",
    "                                      aggfunc=pivot_agg, \n",
    "                                      fill_value=0\n",
    "                                     )\n",
    "    \n",
    "    #CONFIDENCE LEVEL:\n",
    "\n",
    "    user_item_matrix = user_item_matrix.astype(float) * confidence\n",
    "\n",
    "    \n",
    "    # переведем в формат saprse matrix\n",
    "    sparse_user_item = csr_matrix(user_item_matrix).tocsr()\n",
    "    \n",
    "    userids = user_item_matrix.index.values\n",
    "    itemids = user_item_matrix.columns.values\n",
    "\n",
    "    matrix_userids = np.arange(len(userids))\n",
    "    matrix_itemids = np.arange(len(itemids))\n",
    "\n",
    "    id_to_itemid = dict(zip(matrix_itemids, itemids))\n",
    "    id_to_userid = dict(zip(matrix_userids, userids))\n",
    "\n",
    "    itemid_to_id = dict(zip(itemids, matrix_itemids))\n",
    "    userid_to_id = dict(zip(userids, matrix_userids))\n",
    "\n",
    "    model = AlternatingLeastSquares(factors=als_factors, \n",
    "                                regularization=als_iterations,\n",
    "                                iterations=als_iterations, \n",
    "                                calculate_training_loss=True, \n",
    "                                use_gpu=False)\n",
    "    \n",
    "    model.fit(csr_matrix(user_item_matrix).T.tocsr(),  # На вход item-user matrix\n",
    "          show_progress=True)\n",
    "    \n",
    "    def get_recommendations(user, model, N=5):\n",
    "        res = [id_to_itemid[rec[0]] for rec in\n",
    "                        model.recommend(userid=userid_to_id[user], \n",
    "                                        user_items=sparse_user_item,   # на вход user-item matrix\n",
    "                                        N=N, \n",
    "                                        filter_already_liked_items=False, \n",
    "                                        filter_items=[itemid_to_id[999999]], \n",
    "                                        recalculate_user=True)]\n",
    "        return res\n",
    "\n",
    "    result['als'] = result['user_id'].apply(lambda x: get_recommendations(x, model=model, N=5))\n",
    "    \n",
    "    result['precision_at_k'] = result.apply(lambda row: precision_at_k(row['als'], row['actual']), axis=1)\n",
    "    \n",
    "    return result['precision_at_k'].mean()"
   ]
  },
  {
   "cell_type": "markdown",
   "metadata": {},
   "source": [
    "### Подбор матрицы $c_{ui}$\n",
    "Попробуйте различные варианты матрицы весов (3+ вариантов). Обучите алгоритм для различных $C$. В качестве результата приведите таблицу: матрица весов - результат на train и validation.\n",
    "Сделате качественные выводы.\n",
    "\n",
    "---\n",
    "\n",
    "The confidence (c) is calculated as follows:\n",
    "\n",
    "$c_{ui} = 1 + \\alpha r_{ui}$\n",
    "\n",
    "где:\n",
    "\n",
    "$r_{ui}$ - это элемент user_item матрицы, а $\\alpha$ это коэффициент уверенности. \n",
    "\n",
    "Попробуем посчитать precision_at_k с различными значениями $\\alpha$"
   ]
  },
  {
   "cell_type": "code",
   "execution_count": 84,
   "metadata": {
    "scrolled": true
   },
   "outputs": [
    {
     "data": {
      "application/vnd.jupyter.widget-view+json": {
       "model_id": "b8ac799e9c324a55a57e359bbaace5b6",
       "version_major": 2,
       "version_minor": 0
      },
      "text/plain": [
       "  0%|          | 0/15 [00:00<?, ?it/s]"
      ]
     },
     "metadata": {},
     "output_type": "display_data"
    },
    {
     "data": {
      "application/vnd.jupyter.widget-view+json": {
       "model_id": "15d0914344834f21bf17d25eb6cdfbc8",
       "version_major": 2,
       "version_minor": 0
      },
      "text/plain": [
       "  0%|          | 0/15 [00:00<?, ?it/s]"
      ]
     },
     "metadata": {},
     "output_type": "display_data"
    },
    {
     "data": {
      "application/vnd.jupyter.widget-view+json": {
       "model_id": "58655b7ee4a64e97a45d4e90a8b31dc4",
       "version_major": 2,
       "version_minor": 0
      },
      "text/plain": [
       "  0%|          | 0/15 [00:00<?, ?it/s]"
      ]
     },
     "metadata": {},
     "output_type": "display_data"
    },
    {
     "data": {
      "application/vnd.jupyter.widget-view+json": {
       "model_id": "ef9a3e39c284406bae1df63188859ad1",
       "version_major": 2,
       "version_minor": 0
      },
      "text/plain": [
       "  0%|          | 0/15 [00:00<?, ?it/s]"
      ]
     },
     "metadata": {},
     "output_type": "display_data"
    },
    {
     "data": {
      "application/vnd.jupyter.widget-view+json": {
       "model_id": "e0af58a62b284357960817a9aa76076d",
       "version_major": 2,
       "version_minor": 0
      },
      "text/plain": [
       "  0%|          | 0/15 [00:00<?, ?it/s]"
      ]
     },
     "metadata": {},
     "output_type": "display_data"
    },
    {
     "data": {
      "application/vnd.jupyter.widget-view+json": {
       "model_id": "24c2639154af4d2b80cbc461e62fd4e5",
       "version_major": 2,
       "version_minor": 0
      },
      "text/plain": [
       "  0%|          | 0/15 [00:00<?, ?it/s]"
      ]
     },
     "metadata": {},
     "output_type": "display_data"
    },
    {
     "data": {
      "application/vnd.jupyter.widget-view+json": {
       "model_id": "9888a94f1bb64915bf74f4a52322fccf",
       "version_major": 2,
       "version_minor": 0
      },
      "text/plain": [
       "  0%|          | 0/15 [00:00<?, ?it/s]"
      ]
     },
     "metadata": {},
     "output_type": "display_data"
    },
    {
     "data": {
      "application/vnd.jupyter.widget-view+json": {
       "model_id": "287234a8ce3b4bfdb0516e9740a7cd13",
       "version_major": 2,
       "version_minor": 0
      },
      "text/plain": [
       "  0%|          | 0/15 [00:00<?, ?it/s]"
      ]
     },
     "metadata": {},
     "output_type": "display_data"
    },
    {
     "data": {
      "application/vnd.jupyter.widget-view+json": {
       "model_id": "52c39dabd8144d2390cf6d74723a91c8",
       "version_major": 2,
       "version_minor": 0
      },
      "text/plain": [
       "  0%|          | 0/15 [00:00<?, ?it/s]"
      ]
     },
     "metadata": {},
     "output_type": "display_data"
    },
    {
     "data": {
      "application/vnd.jupyter.widget-view+json": {
       "model_id": "e7b54faecce041cc9384b23978b14247",
       "version_major": 2,
       "version_minor": 0
      },
      "text/plain": [
       "  0%|          | 0/15 [00:00<?, ?it/s]"
      ]
     },
     "metadata": {},
     "output_type": "display_data"
    },
    {
     "data": {
      "application/vnd.jupyter.widget-view+json": {
       "model_id": "962e766847ff453eacdff36db2b8a654",
       "version_major": 2,
       "version_minor": 0
      },
      "text/plain": [
       "  0%|          | 0/15 [00:00<?, ?it/s]"
      ]
     },
     "metadata": {},
     "output_type": "display_data"
    },
    {
     "data": {
      "application/vnd.jupyter.widget-view+json": {
       "model_id": "3c0f28d6a1f34051a006dbdf7c2fd604",
       "version_major": 2,
       "version_minor": 0
      },
      "text/plain": [
       "  0%|          | 0/15 [00:00<?, ?it/s]"
      ]
     },
     "metadata": {},
     "output_type": "display_data"
    },
    {
     "data": {
      "application/vnd.jupyter.widget-view+json": {
       "model_id": "4abd83ae4f424b91aaaff0fc617450de",
       "version_major": 2,
       "version_minor": 0
      },
      "text/plain": [
       "  0%|          | 0/15 [00:00<?, ?it/s]"
      ]
     },
     "metadata": {},
     "output_type": "display_data"
    },
    {
     "data": {
      "application/vnd.jupyter.widget-view+json": {
       "model_id": "bedf748a8b454aab9819e0e9c36c487a",
       "version_major": 2,
       "version_minor": 0
      },
      "text/plain": [
       "  0%|          | 0/15 [00:00<?, ?it/s]"
      ]
     },
     "metadata": {},
     "output_type": "display_data"
    },
    {
     "data": {
      "application/vnd.jupyter.widget-view+json": {
       "model_id": "d03a04d9b5e540e49e678a39a72fb8fd",
       "version_major": 2,
       "version_minor": 0
      },
      "text/plain": [
       "  0%|          | 0/15 [00:00<?, ?it/s]"
      ]
     },
     "metadata": {},
     "output_type": "display_data"
    },
    {
     "data": {
      "application/vnd.jupyter.widget-view+json": {
       "model_id": "015bccea3de547fca6684fde7c32157f",
       "version_major": 2,
       "version_minor": 0
      },
      "text/plain": [
       "  0%|          | 0/15 [00:00<?, ?it/s]"
      ]
     },
     "metadata": {},
     "output_type": "display_data"
    },
    {
     "data": {
      "application/vnd.jupyter.widget-view+json": {
       "model_id": "14da0389437e48fa93420bde0ce72421",
       "version_major": 2,
       "version_minor": 0
      },
      "text/plain": [
       "  0%|          | 0/15 [00:00<?, ?it/s]"
      ]
     },
     "metadata": {},
     "output_type": "display_data"
    },
    {
     "data": {
      "application/vnd.jupyter.widget-view+json": {
       "model_id": "7267e37cd2724c739e6dcf25d6578840",
       "version_major": 2,
       "version_minor": 0
      },
      "text/plain": [
       "  0%|          | 0/15 [00:00<?, ?it/s]"
      ]
     },
     "metadata": {},
     "output_type": "display_data"
    },
    {
     "data": {
      "application/vnd.jupyter.widget-view+json": {
       "model_id": "ffdf5f534aee45f0bde766ff4716250f",
       "version_major": 2,
       "version_minor": 0
      },
      "text/plain": [
       "  0%|          | 0/15 [00:00<?, ?it/s]"
      ]
     },
     "metadata": {},
     "output_type": "display_data"
    },
    {
     "data": {
      "application/vnd.jupyter.widget-view+json": {
       "model_id": "bac6c7f0544e47eaa8ab704923c057b8",
       "version_major": 2,
       "version_minor": 0
      },
      "text/plain": [
       "  0%|          | 0/15 [00:00<?, ?it/s]"
      ]
     },
     "metadata": {},
     "output_type": "display_data"
    }
   ],
   "source": [
    "confidence_list = np.arange(0, 1, 0.05)\n",
    "confidence_results = []\n",
    "\n",
    "for confidence in confidence_list:\n",
    "    confidence_results.append(ALS(data_train, data_test, confidence))"
   ]
  },
  {
   "cell_type": "code",
   "execution_count": 116,
   "metadata": {
    "scrolled": false
   },
   "outputs": [
    {
     "data": {
      "image/png": "[encoded data removed]",
      "text/plain": [
       "<Figure size 720x432 with 1 Axes>"
      ]
     },
     "metadata": {
      "needs_background": "light"
     },
     "output_type": "display_data"
    }
   ],
   "source": [
    "plt.figure(figsize=(10, 6))\n",
    "sns.lineplot(x=confidence_list, y=confidence_results, color='red')\n",
    "\n",
    "confidence_df = pd.DataFrame.from_dict(dict(zip(confidence_list, confidence_results)), orient='index').reset_index()\n",
    "confidence_df.rename(columns={'index':'alpha', 0:'precision_at_k'}, inplace=True)\n",
    "\n",
    "best_result = confidence_df.sort_values('precision_at_k', ascending=False).head(1)\n",
    "\n",
    "\n",
    "plt.plot([best_result['alpha'], best_result['alpha']],[0, best_result['precision_at_k']], \n",
    "         ls='dashed', \n",
    "         lw=0.8,\n",
    "         alpha=0.5,\n",
    "         c='black')\n",
    "\n",
    "plt.plot([0, best_result['alpha']],[best_result['precision_at_k'], best_result['precision_at_k']], \n",
    "         ls='dashed',\n",
    "         lw=0.8,\n",
    "         alpha=0.5,\n",
    "         c='black')\n",
    "\n",
    "plt.plot()\n",
    "\n",
    "plt.xlabel('Confidence level parameter alpha')\n",
    "plt.xticks(confidence_list)\n",
    "plt.ylabel('Precision@k')\n",
    "plt.xlim(left=0)\n",
    "plt.ylim(bottom=0)\n",
    "plt.show();"
   ]
  },
  {
   "cell_type": "markdown",
   "metadata": {},
   "source": [
    "На удивление для меня, подбирая параметр $\\alpha$ для $c_{ui} = 1 + \\alpha r_{ui}$ наилучший показатель (как показано на рисунке выше) был подобран именно в интервале от 0 до 1. Естественно, я пробовал ставить достаточно большие значение alpha, но финальный precision был плохой. \n",
    "\n",
    "В итоге наилучший показатель $\\alpha = 0.15$\n",
    "\n",
    "Как работает параметр $\\alpha$?:\n",
    "Представим что у нас есть матрица user_item, состоящая из нулей, если пользователь не покупал продукт, и кол-ва купленных продуктов, в случае если он его покупал.\n",
    "\n",
    "Тогда, если пользователь не приобретал продукт, коэффициент доверия будет равен:\n",
    "\n",
    "$c_{ui} = 1 + \\alpha r_{ui} = 1 + 0.15 * 0 = 1 $\n",
    "\n",
    "А в случае, если продукт был куплен, к примеру, 5 раз, коэффициент доверия будет равен:\n",
    "\n",
    "$c_{ui} = 1 + \\alpha r_{ui} = 1 + 0.15 * 5 = 1.75 $\n",
    "\n"
   ]
  },
  {
   "cell_type": "markdown",
   "metadata": {
    "id": "PHer9wto49cZ"
   },
   "source": [
    "### Оптимизация гипперпараметров\n",
    "Для лучшей матрицы весов из первого задания подберите оптимальные $\\lambda$ и n_factors. Подбор можно делать вручную (цикл в цикле, аналог sklearn.GridSearch, или случайно - sklearn.RandomSearch). Или Вы можете воспользоваться библиотеками для автоматического подбора гипперпараметров (любые на Ваш вкус). В качестве результата постройте графики:\n",
    "1. Значение параметра - время обучения \n",
    "2. Значение параметра - качество train, качество validation  \n",
    "\n",
    "Сделайте качественные выводы"
   ]
  },
  {
   "cell_type": "code",
   "execution_count": 142,
   "metadata": {
    "colab": {
     "base_uri": "https://localhost:8080/",
     "height": 180
    },
    "id": "tPE1gwHW49ca",
    "outputId": "56427b96-6966-4763-cd0a-92dec024ee33",
    "scrolled": true
   },
   "outputs": [
    {
     "data": {
      "application/vnd.jupyter.widget-view+json": {
       "model_id": "e4acf256e8b9461e854118aa5f78acaf",
       "version_major": 2,
       "version_minor": 0
      },
      "text/plain": [
       "  0%|          | 0/15 [00:00<?, ?it/s]"
      ]
     },
     "metadata": {},
     "output_type": "display_data"
    },
    {
     "data": {
      "application/vnd.jupyter.widget-view+json": {
       "model_id": "5e494b33a01a44b6b90f681ffcd1b540",
       "version_major": 2,
       "version_minor": 0
      },
      "text/plain": [
       "  0%|          | 0/15 [00:00<?, ?it/s]"
      ]
     },
     "metadata": {},
     "output_type": "display_data"
    },
    {
     "data": {
      "application/vnd.jupyter.widget-view+json": {
       "model_id": "1b924b1f724c4e05bebc63ea490b4387",
       "version_major": 2,
       "version_minor": 0
      },
      "text/plain": [
       "  0%|          | 0/15 [00:00<?, ?it/s]"
      ]
     },
     "metadata": {},
     "output_type": "display_data"
    },
    {
     "data": {
      "application/vnd.jupyter.widget-view+json": {
       "model_id": "cd68a8995c2c401fb56f58697aecd862",
       "version_major": 2,
       "version_minor": 0
      },
      "text/plain": [
       "  0%|          | 0/15 [00:00<?, ?it/s]"
      ]
     },
     "metadata": {},
     "output_type": "display_data"
    },
    {
     "data": {
      "application/vnd.jupyter.widget-view+json": {
       "model_id": "28081316f6ce4912a1f209787b6fb595",
       "version_major": 2,
       "version_minor": 0
      },
      "text/plain": [
       "  0%|          | 0/15 [00:00<?, ?it/s]"
      ]
     },
     "metadata": {},
     "output_type": "display_data"
    },
    {
     "data": {
      "application/vnd.jupyter.widget-view+json": {
       "model_id": "eb8bfe1b73d140afb827afbacc28bf0b",
       "version_major": 2,
       "version_minor": 0
      },
      "text/plain": [
       "  0%|          | 0/15 [00:00<?, ?it/s]"
      ]
     },
     "metadata": {},
     "output_type": "display_data"
    },
    {
     "data": {
      "application/vnd.jupyter.widget-view+json": {
       "model_id": "6266008d5ca34a149fda5d88cee1156c",
       "version_major": 2,
       "version_minor": 0
      },
      "text/plain": [
       "  0%|          | 0/15 [00:00<?, ?it/s]"
      ]
     },
     "metadata": {},
     "output_type": "display_data"
    },
    {
     "data": {
      "application/vnd.jupyter.widget-view+json": {
       "model_id": "55afe37016a4499687e3224877038402",
       "version_major": 2,
       "version_minor": 0
      },
      "text/plain": [
       "  0%|          | 0/15 [00:00<?, ?it/s]"
      ]
     },
     "metadata": {},
     "output_type": "display_data"
    },
    {
     "data": {
      "application/vnd.jupyter.widget-view+json": {
       "model_id": "de1abd1820504797b9e70f08465bbe66",
       "version_major": 2,
       "version_minor": 0
      },
      "text/plain": [
       "  0%|          | 0/15 [00:00<?, ?it/s]"
      ]
     },
     "metadata": {},
     "output_type": "display_data"
    },
    {
     "data": {
      "application/vnd.jupyter.widget-view+json": {
       "model_id": "edf270e0baf94714966a6597373aa493",
       "version_major": 2,
       "version_minor": 0
      },
      "text/plain": [
       "  0%|          | 0/15 [00:00<?, ?it/s]"
      ]
     },
     "metadata": {},
     "output_type": "display_data"
    },
    {
     "data": {
      "application/vnd.jupyter.widget-view+json": {
       "model_id": "cf00edd446734e6ebb799c4e1e2adbe3",
       "version_major": 2,
       "version_minor": 0
      },
      "text/plain": [
       "  0%|          | 0/15 [00:00<?, ?it/s]"
      ]
     },
     "metadata": {},
     "output_type": "display_data"
    },
    {
     "data": {
      "application/vnd.jupyter.widget-view+json": {
       "model_id": "a9abc6b8c6e04011a69fa3075a42d72e",
       "version_major": 2,
       "version_minor": 0
      },
      "text/plain": [
       "  0%|          | 0/15 [00:00<?, ?it/s]"
      ]
     },
     "metadata": {},
     "output_type": "display_data"
    },
    {
     "data": {
      "application/vnd.jupyter.widget-view+json": {
       "model_id": "c92480050a48441a88725aff39f153ec",
       "version_major": 2,
       "version_minor": 0
      },
      "text/plain": [
       "  0%|          | 0/15 [00:00<?, ?it/s]"
      ]
     },
     "metadata": {},
     "output_type": "display_data"
    },
    {
     "data": {
      "application/vnd.jupyter.widget-view+json": {
       "model_id": "d150a31295544da5868209082d200c30",
       "version_major": 2,
       "version_minor": 0
      },
      "text/plain": [
       "  0%|          | 0/15 [00:00<?, ?it/s]"
      ]
     },
     "metadata": {},
     "output_type": "display_data"
    },
    {
     "data": {
      "application/vnd.jupyter.widget-view+json": {
       "model_id": "a40ad2a22f234d3dbd5bd8259713bba7",
       "version_major": 2,
       "version_minor": 0
      },
      "text/plain": [
       "  0%|          | 0/15 [00:00<?, ?it/s]"
      ]
     },
     "metadata": {},
     "output_type": "display_data"
    },
    {
     "data": {
      "application/vnd.jupyter.widget-view+json": {
       "model_id": "78a616cfda254b61980d2e97915eb8a2",
       "version_major": 2,
       "version_minor": 0
      },
      "text/plain": [
       "  0%|          | 0/15 [00:00<?, ?it/s]"
      ]
     },
     "metadata": {},
     "output_type": "display_data"
    },
    {
     "data": {
      "application/vnd.jupyter.widget-view+json": {
       "model_id": "5c18846d5f7140ca93880bdef0984859",
       "version_major": 2,
       "version_minor": 0
      },
      "text/plain": [
       "  0%|          | 0/15 [00:00<?, ?it/s]"
      ]
     },
     "metadata": {},
     "output_type": "display_data"
    },
    {
     "data": {
      "application/vnd.jupyter.widget-view+json": {
       "model_id": "190ba1691137448dac2eb809d9f7f148",
       "version_major": 2,
       "version_minor": 0
      },
      "text/plain": [
       "  0%|          | 0/15 [00:00<?, ?it/s]"
      ]
     },
     "metadata": {},
     "output_type": "display_data"
    },
    {
     "data": {
      "application/vnd.jupyter.widget-view+json": {
       "model_id": "b8d688dd618843f98b7cd0625f0371a0",
       "version_major": 2,
       "version_minor": 0
      },
      "text/plain": [
       "  0%|          | 0/15 [00:00<?, ?it/s]"
      ]
     },
     "metadata": {},
     "output_type": "display_data"
    },
    {
     "data": {
      "application/vnd.jupyter.widget-view+json": {
       "model_id": "59f9df2d95e7471bb64d4a18b01a73bf",
       "version_major": 2,
       "version_minor": 0
      },
      "text/plain": [
       "  0%|          | 0/15 [00:00<?, ?it/s]"
      ]
     },
     "metadata": {},
     "output_type": "display_data"
    },
    {
     "data": {
      "application/vnd.jupyter.widget-view+json": {
       "model_id": "eced529f102648808b6aa84afd2ed541",
       "version_major": 2,
       "version_minor": 0
      },
      "text/plain": [
       "  0%|          | 0/15 [00:00<?, ?it/s]"
      ]
     },
     "metadata": {},
     "output_type": "display_data"
    },
    {
     "data": {
      "application/vnd.jupyter.widget-view+json": {
       "model_id": "be8f3f2774dd4246b474e7c4c218a509",
       "version_major": 2,
       "version_minor": 0
      },
      "text/plain": [
       "  0%|          | 0/15 [00:00<?, ?it/s]"
      ]
     },
     "metadata": {},
     "output_type": "display_data"
    },
    {
     "data": {
      "application/vnd.jupyter.widget-view+json": {
       "model_id": "1e98ba891c6c4ab7944c4d04e4cd1488",
       "version_major": 2,
       "version_minor": 0
      },
      "text/plain": [
       "  0%|          | 0/15 [00:00<?, ?it/s]"
      ]
     },
     "metadata": {},
     "output_type": "display_data"
    },
    {
     "data": {
      "application/vnd.jupyter.widget-view+json": {
       "model_id": "184a19e2969b4dbfa9bc03b5ea3d2026",
       "version_major": 2,
       "version_minor": 0
      },
      "text/plain": [
       "  0%|          | 0/15 [00:00<?, ?it/s]"
      ]
     },
     "metadata": {},
     "output_type": "display_data"
    },
    {
     "data": {
      "application/vnd.jupyter.widget-view+json": {
       "model_id": "b940af53787b4e8ea01f8092b87fb9c3",
       "version_major": 2,
       "version_minor": 0
      },
      "text/plain": [
       "  0%|          | 0/15 [00:00<?, ?it/s]"
      ]
     },
     "metadata": {},
     "output_type": "display_data"
    }
   ],
   "source": [
    "hyperparams_df = pd.DataFrame(columns=['n_factors', 'lambda', 'time_sec', 'precision@k'])\n",
    "n_factors = [50, 100, 200, 300, 500]\n",
    "lambdas = [0.001, 0.01, 0.05, 0.1, 0.5]\n",
    "\n",
    "\n",
    "for factor in n_factors:\n",
    "    for l in lambdas:\n",
    "        start_time = time.time()\n",
    "        prec = ALS(data_train, \n",
    "                   data_test, \n",
    "                   confidence=float(best_result['alpha']), \n",
    "                   als_factors=factor,\n",
    "                   als_regularization=l)\n",
    "        execution_time = time.time() - start_time\n",
    "        \n",
    "        hyperparams_df = hyperparams_df.append({'n_factors': factor, \n",
    "                                                'lambda': l, \n",
    "                                                'time_sec': execution_time,\n",
    "                                                'precision@k': prec}, \n",
    "                                                ignore_index=True)"
   ]
  },
  {
   "cell_type": "code",
   "execution_count": 144,
   "metadata": {},
   "outputs": [
    {
     "data": {
      "text/html": [
       "<div>\n",
       "<style scoped>\n",
       "    .dataframe tbody tr th:only-of-type {\n",
       "        vertical-align: middle;\n",
       "    }\n",
       "\n",
       "    .dataframe tbody tr th {\n",
       "        vertical-align: top;\n",
       "    }\n",
       "\n",
       "    .dataframe thead th {\n",
       "        text-align: right;\n",
       "    }\n",
       "</style>\n",
       "<table border=\"1\" class=\"dataframe\">\n",
       "  <thead>\n",
       "    <tr style=\"text-align: right;\">\n",
       "      <th></th>\n",
       "      <th>n_factors</th>\n",
       "      <th>lambda</th>\n",
       "      <th>time_sec</th>\n",
       "      <th>precision@k</th>\n",
       "    </tr>\n",
       "  </thead>\n",
       "  <tbody>\n",
       "    <tr>\n",
       "      <th>23</th>\n",
       "      <td>500.0</td>\n",
       "      <td>0.100</td>\n",
       "      <td>256.915416</td>\n",
       "      <td>0.301665</td>\n",
       "    </tr>\n",
       "    <tr>\n",
       "      <th>24</th>\n",
       "      <td>500.0</td>\n",
       "      <td>0.500</td>\n",
       "      <td>261.899143</td>\n",
       "      <td>0.301469</td>\n",
       "    </tr>\n",
       "    <tr>\n",
       "      <th>21</th>\n",
       "      <td>500.0</td>\n",
       "      <td>0.010</td>\n",
       "      <td>255.399255</td>\n",
       "      <td>0.301077</td>\n",
       "    </tr>\n",
       "    <tr>\n",
       "      <th>20</th>\n",
       "      <td>500.0</td>\n",
       "      <td>0.001</td>\n",
       "      <td>255.960347</td>\n",
       "      <td>0.300881</td>\n",
       "    </tr>\n",
       "    <tr>\n",
       "      <th>22</th>\n",
       "      <td>500.0</td>\n",
       "      <td>0.050</td>\n",
       "      <td>258.130947</td>\n",
       "      <td>0.300784</td>\n",
       "    </tr>\n",
       "    <tr>\n",
       "      <th>19</th>\n",
       "      <td>300.0</td>\n",
       "      <td>0.500</td>\n",
       "      <td>111.833431</td>\n",
       "      <td>0.300490</td>\n",
       "    </tr>\n",
       "    <tr>\n",
       "      <th>10</th>\n",
       "      <td>200.0</td>\n",
       "      <td>0.001</td>\n",
       "      <td>67.282079</td>\n",
       "      <td>0.300490</td>\n",
       "    </tr>\n",
       "    <tr>\n",
       "      <th>15</th>\n",
       "      <td>300.0</td>\n",
       "      <td>0.001</td>\n",
       "      <td>543.786595</td>\n",
       "      <td>0.300196</td>\n",
       "    </tr>\n",
       "    <tr>\n",
       "      <th>13</th>\n",
       "      <td>200.0</td>\n",
       "      <td>0.100</td>\n",
       "      <td>66.048076</td>\n",
       "      <td>0.299804</td>\n",
       "    </tr>\n",
       "    <tr>\n",
       "      <th>18</th>\n",
       "      <td>300.0</td>\n",
       "      <td>0.100</td>\n",
       "      <td>112.028280</td>\n",
       "      <td>0.299706</td>\n",
       "    </tr>\n",
       "    <tr>\n",
       "      <th>17</th>\n",
       "      <td>300.0</td>\n",
       "      <td>0.050</td>\n",
       "      <td>112.944829</td>\n",
       "      <td>0.299706</td>\n",
       "    </tr>\n",
       "    <tr>\n",
       "      <th>14</th>\n",
       "      <td>200.0</td>\n",
       "      <td>0.500</td>\n",
       "      <td>65.901222</td>\n",
       "      <td>0.299608</td>\n",
       "    </tr>\n",
       "    <tr>\n",
       "      <th>16</th>\n",
       "      <td>300.0</td>\n",
       "      <td>0.010</td>\n",
       "      <td>110.936528</td>\n",
       "      <td>0.299510</td>\n",
       "    </tr>\n",
       "    <tr>\n",
       "      <th>11</th>\n",
       "      <td>200.0</td>\n",
       "      <td>0.010</td>\n",
       "      <td>65.840642</td>\n",
       "      <td>0.299314</td>\n",
       "    </tr>\n",
       "    <tr>\n",
       "      <th>12</th>\n",
       "      <td>200.0</td>\n",
       "      <td>0.050</td>\n",
       "      <td>65.797601</td>\n",
       "      <td>0.299314</td>\n",
       "    </tr>\n",
       "    <tr>\n",
       "      <th>7</th>\n",
       "      <td>100.0</td>\n",
       "      <td>0.050</td>\n",
       "      <td>34.621282</td>\n",
       "      <td>0.298335</td>\n",
       "    </tr>\n",
       "    <tr>\n",
       "      <th>8</th>\n",
       "      <td>100.0</td>\n",
       "      <td>0.100</td>\n",
       "      <td>34.728253</td>\n",
       "      <td>0.298139</td>\n",
       "    </tr>\n",
       "    <tr>\n",
       "      <th>5</th>\n",
       "      <td>100.0</td>\n",
       "      <td>0.001</td>\n",
       "      <td>34.858776</td>\n",
       "      <td>0.298041</td>\n",
       "    </tr>\n",
       "    <tr>\n",
       "      <th>9</th>\n",
       "      <td>100.0</td>\n",
       "      <td>0.500</td>\n",
       "      <td>34.632885</td>\n",
       "      <td>0.297747</td>\n",
       "    </tr>\n",
       "    <tr>\n",
       "      <th>6</th>\n",
       "      <td>100.0</td>\n",
       "      <td>0.010</td>\n",
       "      <td>34.563487</td>\n",
       "      <td>0.297258</td>\n",
       "    </tr>\n",
       "    <tr>\n",
       "      <th>0</th>\n",
       "      <td>50.0</td>\n",
       "      <td>0.001</td>\n",
       "      <td>26.638909</td>\n",
       "      <td>0.292458</td>\n",
       "    </tr>\n",
       "    <tr>\n",
       "      <th>3</th>\n",
       "      <td>50.0</td>\n",
       "      <td>0.100</td>\n",
       "      <td>25.753290</td>\n",
       "      <td>0.292165</td>\n",
       "    </tr>\n",
       "    <tr>\n",
       "      <th>1</th>\n",
       "      <td>50.0</td>\n",
       "      <td>0.010</td>\n",
       "      <td>26.476919</td>\n",
       "      <td>0.291577</td>\n",
       "    </tr>\n",
       "    <tr>\n",
       "      <th>4</th>\n",
       "      <td>50.0</td>\n",
       "      <td>0.500</td>\n",
       "      <td>25.533817</td>\n",
       "      <td>0.291381</td>\n",
       "    </tr>\n",
       "    <tr>\n",
       "      <th>2</th>\n",
       "      <td>50.0</td>\n",
       "      <td>0.050</td>\n",
       "      <td>25.504438</td>\n",
       "      <td>0.289422</td>\n",
       "    </tr>\n",
       "  </tbody>\n",
       "</table>\n",
       "</div>"
      ],
      "text/plain": [
       "    n_factors  lambda    time_sec  precision@k\n",
       "23      500.0   0.100  256.915416     0.301665\n",
       "24      500.0   0.500  261.899143     0.301469\n",
       "21      500.0   0.010  255.399255     0.301077\n",
       "20      500.0   0.001  255.960347     0.300881\n",
       "22      500.0   0.050  258.130947     0.300784\n",
       "19      300.0   0.500  111.833431     0.300490\n",
       "10      200.0   0.001   67.282079     0.300490\n",
       "15      300.0   0.001  543.786595     0.300196\n",
       "13      200.0   0.100   66.048076     0.299804\n",
       "18      300.0   0.100  112.028280     0.299706\n",
       "17      300.0   0.050  112.944829     0.299706\n",
       "14      200.0   0.500   65.901222     0.299608\n",
       "16      300.0   0.010  110.936528     0.299510\n",
       "11      200.0   0.010   65.840642     0.299314\n",
       "12      200.0   0.050   65.797601     0.299314\n",
       "7       100.0   0.050   34.621282     0.298335\n",
       "8       100.0   0.100   34.728253     0.298139\n",
       "5       100.0   0.001   34.858776     0.298041\n",
       "9       100.0   0.500   34.632885     0.297747\n",
       "6       100.0   0.010   34.563487     0.297258\n",
       "0        50.0   0.001   26.638909     0.292458\n",
       "3        50.0   0.100   25.753290     0.292165\n",
       "1        50.0   0.010   26.476919     0.291577\n",
       "4        50.0   0.500   25.533817     0.291381\n",
       "2        50.0   0.050   25.504438     0.289422"
      ]
     },
     "execution_count": 144,
     "metadata": {},
     "output_type": "execute_result"
    }
   ],
   "source": [
    "hyperparams_df.sort_values(by='precision@k', ascending=False)"
   ]
  },
  {
   "cell_type": "markdown",
   "metadata": {
    "id": "sKevvD1349cb"
   },
   "source": [
    "**P.S.** Не пишите отписки в качестве выводов. Мне интресены Ваши рассуждения, трудности, с которыми Вы сталкнулись и что-то, что Вас удивило. Если выводы контринтуитивны - напишите об этом, в этом нет ничего страшного!"
   ]
  },
  {
   "cell_type": "markdown",
   "metadata": {},
   "source": [
    "Во-первых, чем больше factor, тем больше времени требуется для оптимизации и поиска коэффициентов в эмбеддингах:"
   ]
  },
  {
   "cell_type": "code",
   "execution_count": 166,
   "metadata": {},
   "outputs": [
    {
     "data": {
      "image/png": "[encoded data removed]",
      "text/plain": [
       "<Figure size 864x360 with 1 Axes>"
      ]
     },
     "metadata": {
      "needs_background": "light"
     },
     "output_type": "display_data"
    },
    {
     "name": "stdout",
     "output_type": "stream",
     "text": [
      "Коэффициент корреляции: 0.9626975239787354\n"
     ]
    }
   ],
   "source": [
    "plt.figure(figsize=(12, 5))\n",
    "sns.lineplot(x=hyperparams_df.groupby('n_factors')['time_sec'].mean().index, y=hyperparams_df.groupby('n_factors')['time_sec'].mean().values)\n",
    "plt.ylabel('time, sec.')\n",
    "plt.show();\n",
    "\n",
    "print('Коэффициент корреляции:' ,np.corrcoef(hyperparams_df.groupby('n_factors')['time_sec'].mean().index, \n",
    "                  hyperparams_df.groupby('n_factors')['time_sec'].mean().values)[0][1])"
   ]
  },
  {
   "cell_type": "code",
   "execution_count": 185,
   "metadata": {},
   "outputs": [
    {
     "data": {
      "image/png": "[encoded data removed]",
      "text/plain": [
       "<Figure size 864x360 with 1 Axes>"
      ]
     },
     "metadata": {
      "needs_background": "light"
     },
     "output_type": "display_data"
    }
   ],
   "source": [
    "plt.figure(figsize=(12, 5))\n",
    "sns.lineplot(x=hyperparams_df['time_sec'], y=hyperparams_df['precision@k'])\n",
    "plt.ylabel('precision@k')\n",
    "plt.show();"
   ]
  },
  {
   "cell_type": "markdown",
   "metadata": {},
   "source": [
    "Однако, если судить по затраченному времени, то после 60-ти секунд precision@k уходит на плато, поэтому нет смысла тратить много времени на обучение модели, так как precision@k не улучшается с течением времени."
   ]
  },
  {
   "cell_type": "code",
   "execution_count": 191,
   "metadata": {},
   "outputs": [
    {
     "data": {
      "image/png": "[encoded data removed]",
      "text/plain": [
       "<Figure size 576x576 with 1 Axes>"
      ]
     },
     "metadata": {
      "needs_background": "light"
     },
     "output_type": "display_data"
    }
   ],
   "source": [
    "from mpl_toolkits.mplot3d import Axes3D\n",
    "\n",
    "\n",
    "fig = plt.figure(figsize=(8, 8))\n",
    "ax = fig.add_subplot(111, projection='3d')\n",
    "ax.scatter(hyperparams_df['n_factors'], \n",
    "           hyperparams_df['lambda'], \n",
    "           hyperparams_df['precision@k'],\n",
    "           linewidths=1, alpha=.7,\n",
    "           edgecolor='k',\n",
    "           s = 600,\n",
    "           c=hyperparams_df['precision@k'])\n",
    "ax.set_xlabel('n_factors')\n",
    "ax.set_ylabel('lambda')\n",
    "ax.set_zlabel('precision@k')\n",
    "\n",
    "plt.show();"
   ]
  }
 ],
 "metadata": {
  "colab": {
   "collapsed_sections": [],
   "name": "HW_3_tasks.ipynb",
   "provenance": []
  },
  "kernelspec": {
   "display_name": "Python 3",
   "language": "python",
   "name": "python3"
  },
  "language_info": {
   "codemirror_mode": {
    "name": "ipython",
    "version": 3
   },
   "file_extension": ".py",
   "mimetype": "text/x-python",
   "name": "python",
   "nbconvert_exporter": "python",
   "pygments_lexer": "ipython3",
   "version": "3.8.10"
  }
 },
 "nbformat": 4,
 "nbformat_minor": 1
}
